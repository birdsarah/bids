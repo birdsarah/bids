{
 "cells": [
  {
   "cell_type": "code",
   "execution_count": null,
   "metadata": {
    "collapsed": false
   },
   "outputs": [],
   "source": [
    "from bokeh.io import output_notebook, show\n",
    "output_notebook()"
   ]
  },
  {
   "cell_type": "markdown",
   "metadata": {},
   "source": [
    "# Test data"
   ]
  },
  {
   "cell_type": "code",
   "execution_count": null,
   "metadata": {
    "collapsed": false
   },
   "outputs": [],
   "source": [
    "from bokeh.models import ColumnDataSource\n",
    "from bokeh.plotting import figure\n",
    "\n",
    "source = ColumnDataSource({\n",
    "    'left': [0, 1, 2],\n",
    "    'right': [1, 2, 3],\n",
    "    'top': [2, 4, 6],\n",
    "    'bottom': [1.5, 3.5, 5.5]\n",
    "})\n",
    "p = figure(plot_height=300, plot_width=500)"
   ]
  },
  {
   "cell_type": "code",
   "execution_count": null,
   "metadata": {
    "collapsed": false
   },
   "outputs": [],
   "source": [
    "p.quad?\n",
    "p.quad(left='left', right='right', top='top', bottom='bottom', source=source)\n",
    "show(p)"
   ]
  },
  {
   "cell_type": "markdown",
   "metadata": {},
   "source": [
    "# Our plot"
   ]
  },
  {
   "cell_type": "markdown",
   "metadata": {},
   "source": [
    "<img width=500 style=\"float: left\" src='../static/images/plotting.png'>"
   ]
  },
  {
   "cell_type": "code",
   "execution_count": null,
   "metadata": {
    "collapsed": false
   },
   "outputs": [],
   "source": [
    "from process_gtimelog import get_plotting_chart_df\n",
    "start, end, activities, data = get_plotting_chart_df()\n",
    "\n",
    "source = ColumnDataSource(data)\n",
    "data[['start', 'end', 'formatted_activity']].head()"
   ]
  },
  {
   "cell_type": "code",
   "execution_count": null,
   "metadata": {
    "collapsed": false
   },
   "outputs": [],
   "source": [
    "\n",
    "\n",
    "p = figure(plot_height=300, plot_width=500)\n",
    "\n",
    "p.quad(left='start', right='end', top='formatted_activity', bottom='formatted_activity', source=source)\n",
    "show(p)"
   ]
  },
  {
   "cell_type": "markdown",
   "metadata": {},
   "source": [
    "# Open the console"
   ]
  },
  {
   "cell_type": "markdown",
   "metadata": {},
   "source": [
    "<img width=500 style=\"float: left\" src='../static/images/plotting_could_not_set_ranges.png'>\n",
    "\n",
    "console - WAT - validation"
   ]
  },
  {
   "cell_type": "markdown",
   "metadata": {},
   "source": [
    "# Set some ranges"
   ]
  },
  {
   "cell_type": "code",
   "execution_count": null,
   "metadata": {
    "collapsed": false
   },
   "outputs": [],
   "source": [
    "from bokeh.models import Range1d, FactorRange\n",
    "p = figure(\n",
    "    x_range=Range1d(start, end), \n",
    "    y_range=FactorRange(factors=activities),\n",
    "    plot_height=300, plot_width=500\n",
    ")\n",
    "p.quad(left='start', right='end', top='formatted_activity', bottom='formatted_activity', source=source)\n",
    "show(p)"
   ]
  },
  {
   "cell_type": "code",
   "execution_count": null,
   "metadata": {
    "collapsed": false
   },
   "outputs": [],
   "source": [
    "data[['activity_bottom', 'activity_top']].head(1)"
   ]
  },
  {
   "cell_type": "markdown",
   "metadata": {},
   "source": [
    "For `FactorRange`s or categorical ranges, we can specify width/height by :0.0 to :1.0 suffix"
   ]
  },
  {
   "cell_type": "code",
   "execution_count": null,
   "metadata": {
    "collapsed": false
   },
   "outputs": [],
   "source": [
    "p = figure(\n",
    "    x_range=Range1d(start, end), \n",
    "    y_range=FactorRange(factors=activities),\n",
    "    plot_height=300, plot_width=500\n",
    ")\n",
    "p.quad(left='start', right='end', top='activity_top', bottom='activity_bottom', source=source)\n",
    "show(p)"
   ]
  },
  {
   "cell_type": "code",
   "execution_count": null,
   "metadata": {
    "collapsed": true
   },
   "outputs": [],
   "source": []
  }
 ],
 "metadata": {
  "kernelspec": {
   "display_name": "Python 3",
   "language": "python",
   "name": "python3"
  },
  "language_info": {
   "codemirror_mode": {
    "name": "ipython",
    "version": 3
   },
   "file_extension": ".py",
   "mimetype": "text/x-python",
   "name": "python",
   "nbconvert_exporter": "python",
   "pygments_lexer": "ipython3",
   "version": "3.4.3"
  }
 },
 "nbformat": 4,
 "nbformat_minor": 0
}
