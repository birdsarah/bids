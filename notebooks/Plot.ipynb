{
 "cells": [
  {
   "cell_type": "markdown",
   "metadata": {},
   "source": [
    "# Plot | Figure | Chart"
   ]
  },
  {
   "cell_type": "code",
   "execution_count": 1,
   "metadata": {
    "collapsed": false
   },
   "outputs": [
    {
     "data": {
      "text/plain": [
       "bokeh.models.plots.Plot"
      ]
     },
     "execution_count": 1,
     "metadata": {},
     "output_type": "execute_result"
    }
   ],
   "source": [
    "from bokeh.models import Plot\n",
    "\n",
    "p = Plot()\n",
    "type(p)"
   ]
  },
  {
   "cell_type": "code",
   "execution_count": 2,
   "metadata": {
    "collapsed": false
   },
   "outputs": [
    {
     "data": {
      "text/plain": [
       "bokeh.plotting.figure.Figure"
      ]
     },
     "execution_count": 2,
     "metadata": {},
     "output_type": "execute_result"
    }
   ],
   "source": [
    "from bokeh.plotting import figure\n",
    "\n",
    "f = figure()\n",
    "type(f)"
   ]
  },
  {
   "cell_type": "code",
   "execution_count": 3,
   "metadata": {
    "collapsed": false
   },
   "outputs": [
    {
     "data": {
      "text/plain": [
       "bokeh.charts.chart.Chart"
      ]
     },
     "execution_count": 3,
     "metadata": {},
     "output_type": "execute_result"
    }
   ],
   "source": [
    "from bokeh.charts import Chart\n",
    "\n",
    "c = Chart()\n",
    "type(c)"
   ]
  },
  {
   "cell_type": "markdown",
   "metadata": {},
   "source": [
    "# All have common attributes"
   ]
  },
  {
   "cell_type": "code",
   "execution_count": 5,
   "metadata": {
    "collapsed": false
   },
   "outputs": [
    {
     "name": "stdout",
     "output_type": "stream",
     "text": [
      "right right right\n",
      "#ffffff #ffffff #ffffff\n"
     ]
    }
   ],
   "source": [
    "print(p.toolbar_location, f.toolbar_location, c.toolbar_location)\n",
    "print(p.background_fill_color, f.background_fill_color, c.background_fill_color)"
   ]
  },
  {
   "cell_type": "markdown",
   "metadata": {},
   "source": [
    "#All have 3 key methods\n",
    "\n",
    "* add_tools\n",
    "* add_layout\n",
    "* add_glyph"
   ]
  },
  {
   "cell_type": "code",
   "execution_count": 6,
   "metadata": {
    "collapsed": false
   },
   "outputs": [
    {
     "name": "stdout",
     "output_type": "stream",
     "text": [
      "<bound method Plot.add_tools of Plot(id='b8516e44-648a-46ea-a8ef-1fed40afcf06', ...)> <bound method Plot.add_tools of Figure(id='cfe9ccc1-30ee-4db8-94d8-20c7b43685b9', ...)> <bound method Plot.add_tools of Chart(id='9f447fec-05df-44b6-9b01-304df44d8c14', ...)>\n"
     ]
    }
   ],
   "source": [
    "print(p.add_tools, f.add_tools, c.add_tools)"
   ]
  },
  {
   "cell_type": "code",
   "execution_count": 7,
   "metadata": {
    "collapsed": false
   },
   "outputs": [
    {
     "name": "stdout",
     "output_type": "stream",
     "text": [
      "<bound method Plot.add_layout of Plot(id='b8516e44-648a-46ea-a8ef-1fed40afcf06', ...)> <bound method Plot.add_layout of Figure(id='cfe9ccc1-30ee-4db8-94d8-20c7b43685b9', ...)> <bound method Plot.add_layout of Chart(id='9f447fec-05df-44b6-9b01-304df44d8c14', ...)>\n"
     ]
    }
   ],
   "source": [
    "print(p.add_layout, f.add_layout, c.add_layout)"
   ]
  },
  {
   "cell_type": "code",
   "execution_count": 8,
   "metadata": {
    "collapsed": false
   },
   "outputs": [
    {
     "name": "stdout",
     "output_type": "stream",
     "text": [
      "<bound method Plot.add_glyph of Plot(id='b8516e44-648a-46ea-a8ef-1fed40afcf06', ...)> <bound method Plot.add_glyph of Figure(id='cfe9ccc1-30ee-4db8-94d8-20c7b43685b9', ...)> <bound method Plot.add_glyph of Chart(id='9f447fec-05df-44b6-9b01-304df44d8c14', ...)>\n"
     ]
    }
   ],
   "source": [
    "print(p.add_glyph, f.add_glyph, c.add_glyph)"
   ]
  },
  {
   "cell_type": "code",
   "execution_count": null,
   "metadata": {
    "collapsed": true
   },
   "outputs": [],
   "source": []
  }
 ],
 "metadata": {
  "kernelspec": {
   "display_name": "Python 3",
   "language": "python",
   "name": "python3"
  },
  "language_info": {
   "codemirror_mode": {
    "name": "ipython",
    "version": 3
   },
   "file_extension": ".py",
   "mimetype": "text/x-python",
   "name": "python",
   "nbconvert_exporter": "python",
   "pygments_lexer": "ipython3",
   "version": "3.5.2"
  }
 },
 "nbformat": 4,
 "nbformat_minor": 0
}
