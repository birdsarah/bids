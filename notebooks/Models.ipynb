{
 "cells": [
  {
   "cell_type": "code",
   "execution_count": null,
   "metadata": {
    "collapsed": false
   },
   "outputs": [],
   "source": [
    "from bokeh.io import output_notebook, show\n",
    "output_notebook()"
   ]
  },
  {
   "cell_type": "code",
   "execution_count": null,
   "metadata": {
    "collapsed": false
   },
   "outputs": [],
   "source": [
    "from process_gtimelog import get_models_sources_and_activities\n",
    "start, end, sources, activities = get_models_sources_and_activities()\n",
    "sources"
   ]
  },
  {
   "cell_type": "code",
   "execution_count": null,
   "metadata": {
    "collapsed": false
   },
   "outputs": [],
   "source": [
    "print(sources['Beekeeping'])\n",
    "sources['Beekeeping'].to_df().tail()"
   ]
  },
  {
   "cell_type": "code",
   "execution_count": null,
   "metadata": {
    "collapsed": false
   },
   "outputs": [],
   "source": [
    "from bokeh.models import Plot, Range1d, LinearAxis, DatetimeAxis, Line\n",
    "\n",
    "plot = Plot(\n",
    "    x_range=Range1d(start, end), \n",
    "    y_range=Range1d(0, 11),\n",
    "    plot_width=500, \n",
    "    plot_height=150,\n",
    ")\n",
    "\n",
    "line = Line(x='timestamp', y='cumsum_hrs')\n",
    "\n",
    "for activity in activities:\n",
    "    plot.add_glyph(sources[activity], line)\n",
    "\n",
    "show(plot)"
   ]
  },
  {
   "cell_type": "code",
   "execution_count": null,
   "metadata": {
    "collapsed": false
   },
   "outputs": [],
   "source": [
    "from bokeh.palettes import Spectral4 as palette\n",
    "palette"
   ]
  },
  {
   "cell_type": "markdown",
   "metadata": {},
   "source": [
    "Check out the palettes reference: bokeh.pydata.org/en/latest/docs/reference/palettes.html"
   ]
  },
  {
   "cell_type": "code",
   "execution_count": null,
   "metadata": {
    "collapsed": false
   },
   "outputs": [],
   "source": [
    "\n",
    "plot = Plot(\n",
    "    x_range=Range1d(start, end), \n",
    "    y_range=Range1d(0, 11),\n",
    "    plot_width=500, \n",
    "    plot_height=150,\n",
    "    background_fill='black',  # Fill the plot background\n",
    "    border_fill='black',  # Fill the border\n",
    "    outline_line_color=None,  # Remove the line round the chart\n",
    "    toolbar_location=None  # Remove the toolbar\n",
    ")\n",
    "\n",
    "# We can style the axis labels\n",
    "plot.add_layout(LinearAxis(major_label_text_color='white'), 'left')\n",
    "plot.add_layout(DatetimeAxis(major_label_text_color='white'), 'below')\n",
    "\n",
    "for i, activity in enumerate(activities):\n",
    "    source = sources[activity]\n",
    "    line = Line(\n",
    "        x='timestamp', y='cumsum_hrs',\n",
    "        line_color=palette[i], # Change the color for each line\n",
    "        line_width=5, line_alpha=0.75, line_join='round', line_cap='round', # Prettify the line\n",
    "    )\n",
    "    plot.add_glyph(source, line)\n",
    "\n",
    "\n",
    "show(plot)"
   ]
  },
  {
   "cell_type": "markdown",
   "metadata": {},
   "source": [
    "* plot.add_layout()\n",
    "* plot.add_glyph()\n",
    "* plot.add_tools()"
   ]
  },
  {
   "cell_type": "code",
   "execution_count": null,
   "metadata": {
    "collapsed": true
   },
   "outputs": [],
   "source": [
    "# Turn the above into a method and pan (then constrain)\n",
    "#def make_plot():\n",
    "#return plot"
   ]
  },
  {
   "cell_type": "code",
   "execution_count": null,
   "metadata": {
    "collapsed": false
   },
   "outputs": [],
   "source": [
    "from bokeh.models import PanTool\n",
    "plot = make_plot()\n",
    "plot.add_tools(PanTool())\n",
    "show(plot)"
   ]
  },
  {
   "cell_type": "code",
   "execution_count": null,
   "metadata": {
    "collapsed": false
   },
   "outputs": [],
   "source": [
    "from bokeh.models import BasicTicker, DatetimeTickFormatter, DatetimeTicker, DatetimeAxis, Grid\n",
    "\n",
    "plot = make_plot()\n",
    "\n",
    "AXIS_FORMATS = dict(major_label_text_color='white')\n",
    "\n",
    "# Add a custom axis on the right, with grid lines\n",
    "yticker = BasicTicker(min_interval=3)\n",
    "plot.add_layout(LinearAxis(ticker=yticker, **AXIS_FORMATS), 'right')\n",
    "plot.add_layout(Grid(dimension=1, ticker=yticker, grid_line_alpha=0.8))\n",
    "\n",
    "# Add a second time axis on the bottom\n",
    "year_ticker = DatetimeTicker(desired_num_ticks=3)\n",
    "year_ticks = DatetimeTickFormatter(formats={'years': [\"%Y\"], 'months': [\"%Y\"]})\n",
    "plot.add_layout(\n",
    "    DatetimeAxis(formatter=year_ticks, ticker=year_ticker, **AXIS_FORMATS),\n",
    "    'below'\n",
    ")\n",
    "\n",
    "show(plot)"
   ]
  },
  {
   "cell_type": "code",
   "execution_count": null,
   "metadata": {
    "collapsed": true
   },
   "outputs": [],
   "source": []
  }
 ],
 "metadata": {
  "kernelspec": {
   "display_name": "Python 3",
   "language": "python",
   "name": "python3"
  },
  "language_info": {
   "codemirror_mode": {
    "name": "ipython",
    "version": 3
   },
   "file_extension": ".py",
   "mimetype": "text/x-python",
   "name": "python",
   "nbconvert_exporter": "python",
   "pygments_lexer": "ipython3",
   "version": "3.4.3"
  }
 },
 "nbformat": 4,
 "nbformat_minor": 0
}
