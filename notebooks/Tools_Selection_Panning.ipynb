{
 "cells": [
  {
   "cell_type": "code",
   "execution_count": null,
   "metadata": {
    "collapsed": false
   },
   "outputs": [],
   "source": [
    "from bokeh.io import output_notebook, show\n",
    "output_notebook()"
   ]
  },
  {
   "cell_type": "code",
   "execution_count": null,
   "metadata": {
    "collapsed": false
   },
   "outputs": [],
   "source": [
    "from bokeh.plotting import figure, gridplot\n",
    "from bokeh.models import ColumnDataSource, HoverTool\n",
    "\n",
    "x = list(range(11))\n",
    "y0 = x\n",
    "y1 = [10-xx for xx in x]\n",
    "y2 = [abs(xx-5) for xx in x]\n",
    "\n",
    "source = ColumnDataSource(data=dict(x=x, y0=y0, y1=y1, y2=y2))\n",
    "source.data"
   ]
  },
  {
   "cell_type": "markdown",
   "metadata": {},
   "source": [
    "## Share ranges & source"
   ]
  },
  {
   "cell_type": "code",
   "execution_count": null,
   "metadata": {
    "collapsed": false,
    "scrolled": true
   },
   "outputs": [],
   "source": [
    "# Create plots and **share ranges**\n",
    "TOOLS = \"box_zoom,box_select,pan,tap,reset,lasso_select\"\n",
    "p1 = figure(tools=TOOLS)\n",
    "p2 = figure(x_range=p1.x_range,tools=TOOLS)\n",
    "p3 = figure(x_range=p1.x_range, y_range=p1.y_range, tools=TOOLS)\n",
    "\n",
    "# Add points with **shared source**\n",
    "p1.circle('x', 'y0', size=20, color='red', source=source)\n",
    "p2.triangle('x', 'y1', size=20, color='blue', source=source)\n",
    "p3.square('x', 'y2', size=20, color='green', source=source)\n",
    "\n",
    "show(gridplot([[p1, p2, p3]], sizing_mode='scale_width'))"
   ]
  },
  {
   "cell_type": "code",
   "execution_count": null,
   "metadata": {
    "collapsed": false
   },
   "outputs": [],
   "source": [
    "# Create plots and **share ranges**\n",
    "TOOLS = \"box_zoom,box_select,pan,tap,reset,lasso_select\"\n",
    "p1 = figure(tools=TOOLS)\n",
    "p2 = figure(x_range=p1.x_range,tools=TOOLS)\n",
    "p3 = figure(x_range=p1.x_range, y_range=p1.y_range, tools=TOOLS)\n",
    "\n",
    "# Add points with **shared source**\n",
    "p1.circle('x', 'y0', size=20, color='red', source=source)\n",
    "p2.triangle('x', 'y1', size=20, color='blue', source=source)\n",
    "p3.square('x', 'y2', size=20, color='green', source=source)\n",
    "\n",
    "# Add **hover**\n",
    "p1.add_tools(\n",
    "    HoverTool(tooltips=[('x', '@x'), ('y0', '@y0'), ('y1', '@y1')])\n",
    ")\n",
    "p2.add_tools(\n",
    "    HoverTool(tooltips='x = @x, y = @y0')\n",
    ")\n",
    "p3.add_tools(\n",
    "    HoverTool(tooltips='x = <strong>@x</strong></br><span style=\"color: magenta\">y = @y0</span>')\n",
    ")\n",
    "\n",
    "show(gridplot([[p1, p2, p3]], sizing_mode='scale_width'))"
   ]
  },
  {
   "cell_type": "code",
   "execution_count": null,
   "metadata": {
    "collapsed": true
   },
   "outputs": [],
   "source": []
  }
 ],
 "metadata": {
  "kernelspec": {
   "display_name": "Python 3",
   "language": "python",
   "name": "python3"
  },
  "language_info": {
   "codemirror_mode": {
    "name": "ipython",
    "version": 3
   },
   "file_extension": ".py",
   "mimetype": "text/x-python",
   "name": "python",
   "nbconvert_exporter": "python",
   "pygments_lexer": "ipython3",
   "version": "3.5.2"
  }
 },
 "nbformat": 4,
 "nbformat_minor": 0
}
