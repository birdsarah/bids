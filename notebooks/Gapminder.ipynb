{
 "cells": [
  {
   "cell_type": "code",
   "execution_count": null,
   "metadata": {
    "collapsed": true
   },
   "outputs": [],
   "source": [
    "import pandas as pd"
   ]
  },
  {
   "cell_type": "code",
   "execution_count": null,
   "metadata": {
    "collapsed": true
   },
   "outputs": [],
   "source": [
    "data = pd.read_csv('assets/gapminder.csv', thousands=',', index_col='Year')"
   ]
  },
  {
   "cell_type": "code",
   "execution_count": null,
   "metadata": {
    "collapsed": false
   },
   "outputs": [],
   "source": [
    "data.head()"
   ]
  },
  {
   "cell_type": "code",
   "execution_count": null,
   "metadata": {
    "collapsed": false
   },
   "outputs": [],
   "source": [
    "from bokeh.io import output_notebook\n",
    "output_notebook()"
   ]
  },
  {
   "cell_type": "code",
   "execution_count": null,
   "metadata": {
    "collapsed": true
   },
   "outputs": [],
   "source": [
    "from bokeh.io import show\n",
    "from bokeh.plotting import figure"
   ]
  },
  {
   "cell_type": "code",
   "execution_count": null,
   "metadata": {
    "collapsed": false
   },
   "outputs": [],
   "source": [
    "p = figure()\n",
    "p.circle(x=data.loc[2010].income, y=data.loc[2010].life)\n",
    "show(p)"
   ]
  },
  {
   "cell_type": "code",
   "execution_count": null,
   "metadata": {
    "collapsed": true
   },
   "outputs": [],
   "source": [
    "# height=200, x_axis_type='log', x_range=(100, 100000), y_range=(0, 100),\n",
    "# color='olive'"
   ]
  },
  {
   "cell_type": "code",
   "execution_count": null,
   "metadata": {
    "collapsed": false
   },
   "outputs": [],
   "source": [
    "p = figure(\n",
    "    height=200, x_axis_type='log',\n",
    "    x_range=(100, 100000), y_range=(0, 100),\n",
    ")\n",
    "p.circle(x=data.loc[2010].income, y=data.loc[2010].life, color='olive')\n",
    "show(p)"
   ]
  },
  {
   "cell_type": "code",
   "execution_count": null,
   "metadata": {
    "collapsed": true
   },
   "outputs": [],
   "source": [
    "#from bokeh.models import NumeralTickFormatter\n",
    "#p.xaxis[0].formatter = NumeralTickFormatter(format=\"$0,\")\n"
   ]
  },
  {
   "cell_type": "code",
   "execution_count": null,
   "metadata": {
    "collapsed": true
   },
   "outputs": [],
   "source": [
    "from bokeh.models import ColumnDataSource\n",
    "source = ColumnDataSource(dict(\n",
    "    x=data.loc[2010].income,\n",
    "    y=data.loc[2010].life,\n",
    "    country=data.loc[2010].Country\n",
    "    ))"
   ]
  },
  {
   "cell_type": "code",
   "execution_count": null,
   "metadata": {
    "collapsed": false
   },
   "outputs": [],
   "source": [
    "ColumnDataSource(data.loc[2010])"
   ]
  },
  {
   "cell_type": "code",
   "execution_count": null,
   "metadata": {
    "collapsed": false
   },
   "outputs": [],
   "source": [
    "PLOT_OPTS = dict(\n",
    "    height=200, x_axis_type='log', sizing_mode='scale_width',\n",
    "    x_range=(100, 100000), y_range=(0, 100),\n",
    ")"
   ]
  },
  {
   "cell_type": "code",
   "execution_count": null,
   "metadata": {
    "collapsed": false
   },
   "outputs": [],
   "source": [
    "from bokeh.models import HoverTool\n",
    "hover = HoverTool(tooltips='@country', show_arrow=False)\n",
    "p = figure(tools=[hover], **PLOT_OPTS)\n",
    "\n",
    "p.circle(x='x', y='y', size=20, alpha=0.6,  source=source)\n",
    "p.xaxis[0].formatter = NumeralTickFormatter(format=\"$0,\")\n",
    "show(p)"
   ]
  },
  {
   "cell_type": "code",
   "execution_count": null,
   "metadata": {
    "collapsed": false
   },
   "outputs": [],
   "source": [
    "from bokeh.models import ColumnDataSource\n",
    "source = ColumnDataSource(dict(\n",
    "    x=data.loc[2010].income,\n",
    "    y=data.loc[2010].life,\n",
    "    country=data.loc[2010].Country,\n",
    "    population=data.loc[2010].population,\n",
    "    region=data.loc[2010].region\n",
    "))\n",
    "source.column_names"
   ]
  },
  {
   "cell_type": "code",
   "execution_count": null,
   "metadata": {
    "collapsed": false
   },
   "outputs": [],
   "source": [
    "list(data.region.unique())"
   ]
  },
  {
   "cell_type": "code",
   "execution_count": null,
   "metadata": {
    "collapsed": false
   },
   "outputs": [],
   "source": [
    "from bokeh.palettes import Spectral6\n",
    "Spectral6"
   ]
  },
  {
   "cell_type": "code",
   "execution_count": null,
   "metadata": {
    "collapsed": false,
    "scrolled": false
   },
   "outputs": [],
   "source": [
    "from bokeh.models import LinearInterpolator, CategoricalColorMapper\n",
    "\n",
    "size_mapper = LinearInterpolator(\n",
    "    x=[data.population.min(), data.population.max()],\n",
    "    y=[5, 50]\n",
    ")\n",
    "color_mapper = CategoricalColorMapper(\n",
    "    factors=list(data.region.unique()),\n",
    "    palette=Spectral6,\n",
    ")\n",
    "\n",
    "p = figure(\n",
    "    title=str(2010), toolbar_location='above',\n",
    "    tools=[HoverTool(tooltips='@country', show_arrow=False)], \n",
    "    **PLOT_OPTS)\n",
    "p.circle(\n",
    "    x='x', y='y', \n",
    "    size={'field': 'population', 'transform': size_mapper}, \n",
    "    color={'field': 'region', 'transform': color_mapper},\n",
    "    alpha=0.6,  \n",
    "    source=source,\n",
    "    legend='region'\n",
    ")\n",
    "p.legend.border_line_color = None\n",
    "p.legend.location = (0, -50)\n",
    "p.right.append(p.legend[0])\n",
    "show(p)"
   ]
  },
  {
   "cell_type": "code",
   "execution_count": null,
   "metadata": {
    "collapsed": false
   },
   "outputs": [],
   "source": [
    "from bokeh.io import push_notebook\n",
    "\n",
    "size_mapper = LinearInterpolator(\n",
    "    x=[data.population.min(), data.population.max()],\n",
    "    y=[5, 50]\n",
    ")\n",
    "color_mapper = CategoricalColorMapper(\n",
    "    factors=list(data.region.unique()),\n",
    "    palette=Spectral6,\n",
    ")\n",
    "\n",
    "p = figure(\n",
    "    title=str(2010), toolbar_location='above',\n",
    "    tools=[HoverTool(tooltips='@country', show_arrow=False)], \n",
    "    **PLOT_OPTS)\n",
    "p.circle(\n",
    "    x='x', y='y', \n",
    "    size={'field': 'population', 'transform': size_mapper}, \n",
    "    color={'field': 'region', 'transform': color_mapper},\n",
    "    alpha=0.6,  \n",
    "    source=source,\n",
    "    legend='region'\n",
    ")\n",
    "p.legend.border_line_color = None\n",
    "p.legend.location = (0, -50)\n",
    "p.right.append(p.legend[0])\n",
    "\n",
    "def update(year):\n",
    "    new_data = dict(\n",
    "        x=data.loc[year].income, \n",
    "        y=data.loc[year].life, \n",
    "        country=data.loc[year].Country,\n",
    "        region=data.loc[year].region,\n",
    "        population=data.loc[year].population,\n",
    "    )\n",
    "    source.data = new_data\n",
    "    p.title.text = str(year)\n",
    "    push_notebook()\n",
    "    \n",
    "show(p, notebook_handle=True)"
   ]
  },
  {
   "cell_type": "code",
   "execution_count": null,
   "metadata": {
    "collapsed": false
   },
   "outputs": [],
   "source": [
    "from ipywidgets import interact\n",
    "\n",
    "interact(update, year=(1950, 2014, 1))"
   ]
  },
  {
   "cell_type": "code",
   "execution_count": null,
   "metadata": {
    "collapsed": true
   },
   "outputs": [],
   "source": []
  }
 ],
 "metadata": {
  "kernelspec": {
   "display_name": "Python 3",
   "language": "python",
   "name": "python3"
  },
  "language_info": {
   "codemirror_mode": {
    "name": "ipython",
    "version": 3
   },
   "file_extension": ".py",
   "mimetype": "text/x-python",
   "name": "python",
   "nbconvert_exporter": "python",
   "pygments_lexer": "ipython3",
   "version": "3.5.2"
  }
 },
 "nbformat": 4,
 "nbformat_minor": 1
}
