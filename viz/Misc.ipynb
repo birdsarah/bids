{
 "cells": [
  {
   "cell_type": "code",
   "execution_count": 1,
   "metadata": {
    "collapsed": true
   },
   "outputs": [],
   "source": [
    "import numpy as np"
   ]
  },
  {
   "cell_type": "code",
   "execution_count": 2,
   "metadata": {
    "collapsed": true
   },
   "outputs": [],
   "source": [
    "n = np.random.rand(100) * 100\n",
    "n = n.astype(int)"
   ]
  },
  {
   "cell_type": "code",
   "execution_count": 3,
   "metadata": {
    "collapsed": true
   },
   "outputs": [],
   "source": [
    "n.sort()"
   ]
  },
  {
   "cell_type": "code",
   "execution_count": 4,
   "metadata": {
    "collapsed": false
   },
   "outputs": [
    {
     "data": {
      "text/plain": [
       "array([ 1,  2,  3,  6,  8, 10, 10, 13, 14, 15, 15, 17, 17, 18, 18, 18, 23,\n",
       "       24, 24, 25, 26, 27, 27, 27, 28, 29, 29, 30, 32, 32, 32, 32, 33, 34,\n",
       "       35, 36, 36, 36, 36, 37, 38, 38, 40, 45, 46, 47, 51, 52, 53, 54, 55,\n",
       "       55, 55, 56, 57, 57, 58, 59, 60, 60, 61, 61, 61, 63, 64, 65, 65, 65,\n",
       "       66, 66, 66, 66, 66, 67, 67, 69, 72, 74, 76, 83, 85, 86, 88, 88, 88,\n",
       "       90, 90, 90, 90, 91, 92, 93, 93, 93, 94, 94, 96, 96, 97, 98])"
      ]
     },
     "execution_count": 4,
     "metadata": {},
     "output_type": "execute_result"
    }
   ],
   "source": [
    "n"
   ]
  },
  {
   "cell_type": "code",
   "execution_count": null,
   "metadata": {
    "collapsed": true
   },
   "outputs": [],
   "source": []
  }
 ],
 "metadata": {
  "kernelspec": {
   "display_name": "Python 3",
   "language": "python",
   "name": "python3"
  },
  "language_info": {
   "codemirror_mode": {
    "name": "ipython",
    "version": 3
   },
   "file_extension": ".py",
   "mimetype": "text/x-python",
   "name": "python",
   "nbconvert_exporter": "python",
   "pygments_lexer": "ipython3",
   "version": "3.5.2"
  }
 },
 "nbformat": 4,
 "nbformat_minor": 1
}
